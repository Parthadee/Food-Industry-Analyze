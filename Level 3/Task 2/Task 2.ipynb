{
 "cells": [
  {
   "cell_type": "code",
   "execution_count": 1,
   "id": "752c124a-8e8f-48b9-ab0e-97958c2f4ca8",
   "metadata": {},
   "outputs": [],
   "source": [
    "###Level 3"
   ]
  },
  {
   "cell_type": "code",
   "execution_count": 2,
   "id": "6fa11e38-0c49-48ab-b81f-4eee446d989a",
   "metadata": {},
   "outputs": [],
   "source": [
    "##Task 2"
   ]
  },
  {
   "cell_type": "code",
   "execution_count": 3,
   "id": "9c9bab12-ea86-4ffe-b071-1e6f5fb510db",
   "metadata": {},
   "outputs": [
    {
     "name": "stdout",
     "output_type": "stream",
     "text": [
      "Restaurants with the highest number of votes:\n",
      "    Restaurant Name  Votes\n",
      "728            Toit  10934\n"
     ]
    }
   ],
   "source": [
    "import pandas as pd\n",
    "import matplotlib.pyplot as plt\n",
    "data=pd.read_csv(\"Datasets/Dataset.csv\")\n",
    "highest_votes = data[data['Votes'] == data['Votes'].max()]\n",
    "print(\"Restaurants with the highest number of votes:\")\n",
    "print(highest_votes[['Restaurant Name', 'Votes']])"
   ]
  },
  {
   "cell_type": "code",
   "execution_count": 4,
   "id": "b4898cbd-011d-414c-a65b-dcff648c1b0d",
   "metadata": {},
   "outputs": [
    {
     "name": "stdout",
     "output_type": "stream",
     "text": [
      "\n",
      "Restaurants with the lowest number of votes:\n",
      "                 Restaurant Name  Votes\n",
      "69              Cantinho da Gula      0\n",
      "874                The Chaiwalas      0\n",
      "879           Fusion Food Corner      0\n",
      "880                Punjabi Rasoi      0\n",
      "887                Baskin Robbin      0\n",
      "...                          ...    ...\n",
      "9044               6 Packs Momos      0\n",
      "9098                   Cafe' Wow      0\n",
      "9099  Chef's Basket Pop Up Caf��      0\n",
      "9103            The Hangout-Deli      0\n",
      "9111                    Platters      0\n",
      "\n",
      "[1094 rows x 2 columns]\n"
     ]
    }
   ],
   "source": [
    "lowest_votes = data[data['Votes'] == data['Votes'].min()]\n",
    "print(\"\\nRestaurants with the lowest number of votes:\")\n",
    "print(lowest_votes[['Restaurant Name', 'Votes']])"
   ]
  },
  {
   "cell_type": "code",
   "execution_count": null,
   "id": "a3b7d1f7-3a0a-4abd-96de-a5db6669e0bc",
   "metadata": {},
   "outputs": [],
   "source": []
  }
 ],
 "metadata": {
  "kernelspec": {
   "display_name": "Python 3 (ipykernel)",
   "language": "python",
   "name": "python3"
  },
  "language_info": {
   "codemirror_mode": {
    "name": "ipython",
    "version": 3
   },
   "file_extension": ".py",
   "mimetype": "text/x-python",
   "name": "python",
   "nbconvert_exporter": "python",
   "pygments_lexer": "ipython3",
   "version": "3.12.6"
  }
 },
 "nbformat": 4,
 "nbformat_minor": 5
}
